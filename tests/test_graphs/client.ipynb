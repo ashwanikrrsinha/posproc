{
 "cells": [
  {
   "cell_type": "code",
   "execution_count": null,
   "source": [
    "from posproc import *\r\n",
    "constants.DATA_STORAGE = 'data/'"
   ],
   "outputs": [],
   "metadata": {}
  },
  {
   "cell_type": "code",
   "execution_count": 5,
   "source": [
    "bob = QKDClient('Bob')\r\n",
    "bob.Initialize_Events()\r\n",
    "bob.start_ursina_client()\r\n",
    "bob.start_events_processing_thread()\r\n",
    "bob.stopClient()\r\n"
   ],
   "outputs": [
    {
     "output_type": "stream",
     "name": "stdout",
     "text": [
      "\n",
      " \u001b[31m>>>\u001b[0m QKDClient connected to ('127.0.0.1', 9999)\n",
      "\n",
      "\n",
      " \u001b[31m>>>\u001b[0m [QKDServer]: Authentication Successful! \n",
      "\n",
      "\n"
     ]
    }
   ],
   "metadata": {}
  },
  {
   "cell_type": "code",
   "execution_count": null,
   "source": [],
   "outputs": [],
   "metadata": {}
  }
 ],
 "metadata": {
  "orig_nbformat": 4,
  "language_info": {
   "name": "python",
   "version": "3.9.6",
   "mimetype": "text/x-python",
   "codemirror_mode": {
    "name": "ipython",
    "version": 3
   },
   "pygments_lexer": "ipython3",
   "nbconvert_exporter": "python",
   "file_extension": ".py"
  },
  "kernelspec": {
   "name": "python3",
   "display_name": "Python 3.9.6 64-bit"
  },
  "interpreter": {
   "hash": "5ca16a19077279a26c29ab0bc7bcb5aaa5d663a49b51feb12c292f0a93f049f0"
  }
 },
 "nbformat": 4,
 "nbformat_minor": 2
}
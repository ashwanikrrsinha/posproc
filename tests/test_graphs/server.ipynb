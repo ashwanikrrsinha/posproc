{
 "cells": [
  {
   "cell_type": "code",
   "execution_count": null,
   "source": [
    "from posproc import *\r\n",
    "constants.DATA_STORAGE = 'data/'"
   ],
   "outputs": [],
   "metadata": {}
  },
  {
   "cell_type": "code",
   "execution_count": 7,
   "source": [
    "totaltime = time.perf_counter()\r\n",
    "alice = QKDServer('Alice')\r\n",
    "alice.Initialize_Events()\r\n",
    "alice.start_ursina_server()\r\n",
    "alice.start_events_processing_thread()\r\n"
   ],
   "outputs": [
    {
     "output_type": "stream",
     "name": "stdout",
     "text": [
      "[\u001b[36mSocketServer\u001b[0m / \u001b[35m__init__\u001b[0m] \u001b[37mCannot create the server : [WinError 10048] Only one usage of each socket address (protocol/network address/port) is normally permitted\u001b[0m\n",
      "\n",
      " \u001b[31m>>>\u001b[0m QKDServer listening @ ('127.0.0.1', 9999).\n",
      "\n",
      "Total time: 0.3082381999999768\n"
     ]
    }
   ],
   "metadata": {}
  },
  {
   "cell_type": "code",
   "execution_count": null,
   "source": [],
   "outputs": [],
   "metadata": {}
  }
 ],
 "metadata": {
  "orig_nbformat": 4,
  "language_info": {
   "name": "python",
   "version": "3.9.6",
   "mimetype": "text/x-python",
   "codemirror_mode": {
    "name": "ipython",
    "version": 3
   },
   "pygments_lexer": "ipython3",
   "nbconvert_exporter": "python",
   "file_extension": ".py"
  },
  "kernelspec": {
   "name": "python3",
   "display_name": "Python 3.9.6 64-bit"
  },
  "interpreter": {
   "hash": "5ca16a19077279a26c29ab0bc7bcb5aaa5d663a49b51feb12c292f0a93f049f0"
  }
 },
 "nbformat": 4,
 "nbformat_minor": 2
}